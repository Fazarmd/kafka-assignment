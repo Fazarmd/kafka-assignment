{
 "cells": [
  {
   "cell_type": "code",
   "execution_count": 1,
   "id": "028079fd-8328-4c87-9be8-c593aec8e67b",
   "metadata": {
    "tags": []
   },
   "outputs": [],
   "source": [
    "import json\n",
    "import uuid\n",
    "import os\n",
    "from dotenv import load_dotenv\n",
    "from pathlib import Path\n",
    "from kafka import KafkaProducer\n",
    "from faker import Faker\n",
    "from time import sleep"
   ]
  },
  {
   "cell_type": "code",
   "execution_count": 2,
   "id": "4b66ed1a-d0b9-4679-abcd-1d6a86f486bb",
   "metadata": {
    "tags": []
   },
   "outputs": [
    {
     "data": {
      "text/plain": [
       "True"
      ]
     },
     "execution_count": 2,
     "metadata": {},
     "output_type": "execute_result"
    }
   ],
   "source": [
    "dotenv_path = Path('/resources/.env')\n",
    "load_dotenv(dotenv_path=dotenv_path)"
   ]
  },
  {
   "cell_type": "code",
   "execution_count": 3,
   "id": "5641a1c9-944b-41c9-83b6-89fd838ccd0a",
   "metadata": {
    "tags": []
   },
   "outputs": [],
   "source": [
    "kafka_host = os.getenv('KAFKA_HOST')\n",
    "kafka_topic_partition = 'assignment'"
   ]
  },
  {
   "cell_type": "code",
   "execution_count": 4,
   "id": "e00a7065-14fe-4c4d-aad9-873d9afadb0d",
   "metadata": {
    "tags": []
   },
   "outputs": [
    {
     "name": "stdout",
     "output_type": "stream",
     "text": [
      "dataeng-kafka\n"
     ]
    }
   ],
   "source": [
    "print(kafka_host)"
   ]
  },
  {
   "cell_type": "code",
   "execution_count": 5,
   "id": "e284e697-11c9-4054-96c9-c3c87eb52de7",
   "metadata": {
    "tags": []
   },
   "outputs": [],
   "source": [
    "producer = KafkaProducer(bootstrap_servers=f'{kafka_host}:9092')"
   ]
  },
  {
   "cell_type": "code",
   "execution_count": 6,
   "id": "bebc79d0-10a4-4f5a-8546-0df51e5dff8f",
   "metadata": {
    "tags": []
   },
   "outputs": [],
   "source": [
    "_instance = Faker()\n",
    "global faker\n",
    "faker = Faker()"
   ]
  },
  {
   "cell_type": "code",
   "execution_count": 7,
   "id": "5f338570-6392-4769-a3b6-b18d5bb2e4ec",
   "metadata": {
    "tags": []
   },
   "outputs": [
    {
     "name": "stdout",
     "output_type": "stream",
     "text": [
      "Data terkirim ke partition 0:\n",
      "{'transaction_id': 'fea9747c-881c-4261-bbcc-7aefc549b80d', 'amount': 79573, 'payment_method': 'Debit', 'store': 'Store C', 'timestamp': 220982274}\n",
      "--------------------------------------------------\n",
      "Data terkirim ke partition 1:\n",
      "{'transaction_id': '9d35b670-720e-4bfa-9d77-4b1db93a003d', 'amount': 28328, 'payment_method': 'Cash', 'store': 'Store B', 'timestamp': 937913476}\n",
      "--------------------------------------------------\n",
      "Data terkirim ke partition 2:\n",
      "{'transaction_id': '693a1144-f4ff-4fc5-b8c4-a42a930f9396', 'amount': 19776, 'payment_method': 'Cash', 'store': 'Store B', 'timestamp': 831662517}\n",
      "--------------------------------------------------\n",
      "Data terkirim ke partition 0:\n",
      "{'transaction_id': '70d1ee57-ff26-4753-a6b0-3f11f8f152ba', 'amount': 83970, 'payment_method': 'Cash', 'store': 'Store A', 'timestamp': 721928794}\n",
      "--------------------------------------------------\n",
      "Data terkirim ke partition 1:\n",
      "{'transaction_id': '8218cdfc-a9e5-4867-b7bc-bcb91e5e6679', 'amount': 92527, 'payment_method': 'Credit Card', 'store': 'Store B', 'timestamp': 1146527891}\n",
      "--------------------------------------------------\n",
      "Data terkirim ke partition 2:\n",
      "{'transaction_id': 'd84bce8f-085c-4d0b-a335-e75e9e5c18cb', 'amount': 21603, 'payment_method': 'Debit', 'store': 'Store C', 'timestamp': 1325967704}\n",
      "--------------------------------------------------\n",
      "Data terkirim ke partition 0:\n",
      "{'transaction_id': '96fb037c-f17b-4bc2-96d7-2fe1d27fc7cf', 'amount': 50155, 'payment_method': 'Cash', 'store': 'Store B', 'timestamp': 613439304}\n",
      "--------------------------------------------------\n",
      "Data terkirim ke partition 1:\n",
      "{'transaction_id': '74df6a56-6fd8-4c08-b22e-3ce9203810dc', 'amount': 18620, 'payment_method': 'Cash', 'store': 'Store A', 'timestamp': 1434859460}\n",
      "--------------------------------------------------\n",
      "Data terkirim ke partition 2:\n",
      "{'transaction_id': '433b0c3e-c764-4b15-b48c-81cdb93b0b09', 'amount': 45513, 'payment_method': 'Credit Card', 'store': 'Store B', 'timestamp': 494591415}\n",
      "--------------------------------------------------\n",
      "Data terkirim ke partition 0:\n",
      "{'transaction_id': 'ce297e02-6719-432e-8416-0b3a9da35855', 'amount': 83351, 'payment_method': 'Credit Card', 'store': 'Store A', 'timestamp': 1273568915}\n",
      "--------------------------------------------------\n",
      "Data terkirim ke partition 1:\n",
      "{'transaction_id': 'd6628ff1-83a0-411f-a5ae-9d6e7c6bc09f', 'amount': 21332, 'payment_method': 'Debit', 'store': 'Store B', 'timestamp': 778171310}\n",
      "--------------------------------------------------\n",
      "Data terkirim ke partition 2:\n",
      "{'transaction_id': '06f7ab83-f925-49c7-9cba-b01807d1a2a9', 'amount': 31846, 'payment_method': 'Cash', 'store': 'Store B', 'timestamp': 1426004806}\n",
      "--------------------------------------------------\n",
      "Data terkirim ke partition 0:\n",
      "{'transaction_id': '982b96d2-146a-46a5-8fdc-2ab2063c6078', 'amount': 46644, 'payment_method': 'Debit', 'store': 'Store B', 'timestamp': 1377860408}\n",
      "--------------------------------------------------\n",
      "Data terkirim ke partition 1:\n",
      "{'transaction_id': '85fe785a-0e0d-4f2d-b4be-f29149831bd4', 'amount': 35329, 'payment_method': 'Debit', 'store': 'Store A', 'timestamp': 1299715841}\n",
      "--------------------------------------------------\n",
      "Data terkirim ke partition 2:\n",
      "{'transaction_id': '3825ef0a-480a-44ae-9320-c5b40cdc08dc', 'amount': 65340, 'payment_method': 'Cash', 'store': 'Store B', 'timestamp': 1269821762}\n",
      "--------------------------------------------------\n",
      "Data terkirim ke partition 0:\n",
      "{'transaction_id': 'b98193af-1461-46fe-94b1-b63cbd43e6b1', 'amount': 44151, 'payment_method': 'Debit', 'store': 'Store C', 'timestamp': 1549269797}\n",
      "--------------------------------------------------\n",
      "Data terkirim ke partition 1:\n",
      "{'transaction_id': 'c2e48fee-61bf-4f5d-8437-112121daa504', 'amount': 22809, 'payment_method': 'Credit Card', 'store': 'Store B', 'timestamp': 591348326}\n",
      "--------------------------------------------------\n",
      "Data terkirim ke partition 2:\n",
      "{'transaction_id': 'f760bdfe-7ed5-49c6-96cf-e962143c8b25', 'amount': 56029, 'payment_method': 'Credit Card', 'store': 'Store C', 'timestamp': 502112149}\n",
      "--------------------------------------------------\n",
      "Data terkirim ke partition 0:\n",
      "{'transaction_id': '283033ee-8505-431f-a9a0-7c5a21e7a36d', 'amount': 54237, 'payment_method': 'Credit Card', 'store': 'Store B', 'timestamp': 1582812303}\n",
      "--------------------------------------------------\n",
      "Data terkirim ke partition 1:\n",
      "{'transaction_id': '9a4cc427-e6f5-4022-8121-adaeabec35fc', 'amount': 50354, 'payment_method': 'Debit', 'store': 'Store A', 'timestamp': 1066467700}\n",
      "--------------------------------------------------\n",
      "Data terkirim ke partition 2:\n",
      "{'transaction_id': '8b6f7969-57c5-4ea9-948b-6f952f7a5bc8', 'amount': 17933, 'payment_method': 'Credit Card', 'store': 'Store A', 'timestamp': 1117331990}\n",
      "--------------------------------------------------\n",
      "Data terkirim ke partition 0:\n",
      "{'transaction_id': 'cffcabf7-d058-40ca-8f94-d27b7cd5c738', 'amount': 97069, 'payment_method': 'Cash', 'store': 'Store C', 'timestamp': 1163552908}\n",
      "--------------------------------------------------\n",
      "Data terkirim ke partition 1:\n",
      "{'transaction_id': '7a1a5c72-53f1-4fd5-9d4f-44a4d6ab7d8b', 'amount': 74758, 'payment_method': 'Debit', 'store': 'Store C', 'timestamp': 1042022687}\n",
      "--------------------------------------------------\n",
      "Data terkirim ke partition 2:\n",
      "{'transaction_id': '701cc1f0-5c92-45ef-b304-2a28f54cbc94', 'amount': 92437, 'payment_method': 'Debit', 'store': 'Store C', 'timestamp': 133123908}\n",
      "--------------------------------------------------\n",
      "Data terkirim ke partition 0:\n",
      "{'transaction_id': '640b2147-00ae-4923-bf23-12911a87f988', 'amount': 61565, 'payment_method': 'Debit', 'store': 'Store B', 'timestamp': 1123445405}\n",
      "--------------------------------------------------\n",
      "Data terkirim ke partition 1:\n",
      "{'transaction_id': '17c07309-3061-488e-816e-8ee968d3e23d', 'amount': 64886, 'payment_method': 'Cash', 'store': 'Store C', 'timestamp': 133516823}\n",
      "--------------------------------------------------\n",
      "Data terkirim ke partition 2:\n",
      "{'transaction_id': 'cb585333-1994-4fa7-a747-c54927d0875b', 'amount': 26423, 'payment_method': 'Debit', 'store': 'Store A', 'timestamp': 793170363}\n",
      "--------------------------------------------------\n",
      "Data terkirim ke partition 0:\n",
      "{'transaction_id': '87dace93-c02e-402a-8cbc-808847c2845b', 'amount': 22874, 'payment_method': 'Debit', 'store': 'Store A', 'timestamp': 1353891199}\n",
      "--------------------------------------------------\n",
      "Data terkirim ke partition 1:\n",
      "{'transaction_id': '0363de8f-5bea-4aae-bd2d-76ea6db1c232', 'amount': 53276, 'payment_method': 'Debit', 'store': 'Store A', 'timestamp': 783022617}\n",
      "--------------------------------------------------\n",
      "Data terkirim ke partition 2:\n",
      "{'transaction_id': 'c11fd443-0749-4717-84ba-839e15dfd383', 'amount': 11719, 'payment_method': 'Cash', 'store': 'Store A', 'timestamp': 1721693818}\n",
      "--------------------------------------------------\n",
      "Data terkirim ke partition 0:\n",
      "{'transaction_id': '17b7fa81-69dc-4a46-9cac-3d0de29cb389', 'amount': 22536, 'payment_method': 'Debit', 'store': 'Store C', 'timestamp': 1225221888}\n",
      "--------------------------------------------------\n",
      "Data terkirim ke partition 1:\n",
      "{'transaction_id': 'caf7d832-b9e2-46c1-9aa1-d4a564f78283', 'amount': 27038, 'payment_method': 'Debit', 'store': 'Store B', 'timestamp': 191521732}\n",
      "--------------------------------------------------\n",
      "Data terkirim ke partition 2:\n",
      "{'transaction_id': '9d5cf8ac-aff5-4c60-9547-644778b4c83d', 'amount': 77289, 'payment_method': 'Cash', 'store': 'Store A', 'timestamp': 1451395425}\n",
      "--------------------------------------------------\n",
      "Data terkirim ke partition 0:\n",
      "{'transaction_id': 'd472d399-ef07-481b-9365-ee396342bf9d', 'amount': 56880, 'payment_method': 'Debit', 'store': 'Store A', 'timestamp': 1626920196}\n",
      "--------------------------------------------------\n",
      "Data terkirim ke partition 1:\n",
      "{'transaction_id': '9c8c1444-1554-44ad-bd05-3d7fbb879507', 'amount': 95322, 'payment_method': 'Credit Card', 'store': 'Store B', 'timestamp': 537717968}\n",
      "--------------------------------------------------\n",
      "Data terkirim ke partition 2:\n",
      "{'transaction_id': 'dcc8821f-559a-4abf-9fd4-f67db627d5fd', 'amount': 82116, 'payment_method': 'Credit Card', 'store': 'Store C', 'timestamp': 1382882703}\n",
      "--------------------------------------------------\n",
      "Data terkirim ke partition 0:\n",
      "{'transaction_id': 'e217f504-2d9f-49f3-9860-9082157d0852', 'amount': 85188, 'payment_method': 'Cash', 'store': 'Store A', 'timestamp': 65944855}\n",
      "--------------------------------------------------\n",
      "Data terkirim ke partition 1:\n",
      "{'transaction_id': '7801dbf9-a66e-41bc-99ac-ee4b94e02047', 'amount': 97636, 'payment_method': 'Debit', 'store': 'Store C', 'timestamp': 52785370}\n",
      "--------------------------------------------------\n",
      "Data terkirim ke partition 2:\n",
      "{'transaction_id': 'ab9cc034-b571-41f1-a45a-b8ff6572c887', 'amount': 15416, 'payment_method': 'Credit Card', 'store': 'Store A', 'timestamp': 378108069}\n",
      "--------------------------------------------------\n",
      "Data terkirim ke partition 0:\n",
      "{'transaction_id': '72b7a406-c161-4bf9-85ce-906c914443b5', 'amount': 47675, 'payment_method': 'Credit Card', 'store': 'Store B', 'timestamp': 186039003}\n",
      "--------------------------------------------------\n",
      "Data terkirim ke partition 1:\n",
      "{'transaction_id': 'f9cae6c9-7676-48a8-a6d8-89e1dcfc04fc', 'amount': 87876, 'payment_method': 'Credit Card', 'store': 'Store B', 'timestamp': 164250460}\n",
      "--------------------------------------------------\n",
      "Data terkirim ke partition 2:\n",
      "{'transaction_id': 'c9e6d0a6-ef57-4e3d-8f67-0268332a274d', 'amount': 77940, 'payment_method': 'Cash', 'store': 'Store B', 'timestamp': 897855844}\n",
      "--------------------------------------------------\n",
      "Data terkirim ke partition 0:\n",
      "{'transaction_id': 'f2fa8324-60d1-4392-9cd5-a3314818f173', 'amount': 41635, 'payment_method': 'Cash', 'store': 'Store C', 'timestamp': 482609422}\n",
      "--------------------------------------------------\n",
      "Data terkirim ke partition 1:\n",
      "{'transaction_id': '34a7ddc1-8b68-4cc6-bec3-407bb035b66d', 'amount': 56820, 'payment_method': 'Cash', 'store': 'Store A', 'timestamp': 952741388}\n",
      "--------------------------------------------------\n",
      "Data terkirim ke partition 2:\n",
      "{'transaction_id': '0d9fa0a5-185d-4a45-a966-9e9695d7c198', 'amount': 35351, 'payment_method': 'Credit Card', 'store': 'Store C', 'timestamp': 1279175250}\n",
      "--------------------------------------------------\n",
      "Data terkirim ke partition 0:\n",
      "{'transaction_id': 'b9c5854b-cd1e-4ad9-9d4b-ccd9f127c9e0', 'amount': 37843, 'payment_method': 'Debit', 'store': 'Store B', 'timestamp': 349949991}\n",
      "--------------------------------------------------\n",
      "Data terkirim ke partition 1:\n",
      "{'transaction_id': '9e642df8-191e-492d-ae0e-e90e366a16ab', 'amount': 69324, 'payment_method': 'Credit Card', 'store': 'Store C', 'timestamp': 1601418859}\n",
      "--------------------------------------------------\n",
      "Data terkirim ke partition 2:\n",
      "{'transaction_id': '56ce1974-a172-40bd-afab-1acaad23475d', 'amount': 13492, 'payment_method': 'Credit Card', 'store': 'Store B', 'timestamp': 399677234}\n",
      "--------------------------------------------------\n",
      "Data terkirim ke partition 0:\n",
      "{'transaction_id': '6b0f8578-91fe-4d29-8a44-20d8cb4b1f7c', 'amount': 58203, 'payment_method': 'Debit', 'store': 'Store B', 'timestamp': 1451664529}\n",
      "--------------------------------------------------\n",
      "Data terkirim ke partition 1:\n",
      "{'transaction_id': '95daac06-cd87-415d-8d94-d4e1dceda7dd', 'amount': 62805, 'payment_method': 'Debit', 'store': 'Store C', 'timestamp': 120598822}\n",
      "--------------------------------------------------\n",
      "Data terkirim ke partition 2:\n",
      "{'transaction_id': '0288ece3-ff2b-4d10-8b10-014a69cb6a53', 'amount': 48602, 'payment_method': 'Credit Card', 'store': 'Store A', 'timestamp': 65834859}\n",
      "--------------------------------------------------\n",
      "Data terkirim ke partition 0:\n",
      "{'transaction_id': '283bb0d6-9e3e-4caa-8955-6a925690cdd8', 'amount': 73959, 'payment_method': 'Cash', 'store': 'Store A', 'timestamp': 739807208}\n",
      "--------------------------------------------------\n",
      "Data terkirim ke partition 1:\n",
      "{'transaction_id': '566fe620-60d7-49d0-ba74-e201923991b5', 'amount': 93274, 'payment_method': 'Cash', 'store': 'Store A', 'timestamp': 802066368}\n",
      "--------------------------------------------------\n"
     ]
    },
    {
     "ename": "KeyboardInterrupt",
     "evalue": "",
     "output_type": "error",
     "traceback": [
      "\u001b[0;31m---------------------------------------------------------------------------\u001b[0m",
      "\u001b[0;31mKeyboardInterrupt\u001b[0m                         Traceback (most recent call last)",
      "Cell \u001b[0;32mIn[7], line 21\u001b[0m\n\u001b[1;32m     19\u001b[0m \u001b[38;5;28mprint\u001b[39m(json_data)\n\u001b[1;32m     20\u001b[0m \u001b[38;5;28mprint\u001b[39m(\u001b[38;5;124m\"\u001b[39m\u001b[38;5;124m-\u001b[39m\u001b[38;5;124m\"\u001b[39m \u001b[38;5;241m*\u001b[39m \u001b[38;5;241m50\u001b[39m)\n\u001b[0;32m---> 21\u001b[0m \u001b[43msleep\u001b[49m\u001b[43m(\u001b[49m\u001b[38;5;241;43m5\u001b[39;49m\u001b[43m)\u001b[49m\n",
      "\u001b[0;31mKeyboardInterrupt\u001b[0m: "
     ]
    }
   ],
   "source": [
    "for i in range(100):\n",
    "    columns = [\"transaction_id\", \"amount\", \"payment_method\", \"store\", \"timestamp\"]\n",
    "    data_list = [\n",
    "        uuid.uuid4().__str__(),\n",
    "        faker.random_int(min=10000, max=100000),\n",
    "        faker.random_element(elements=('Cash', 'Credit Card', 'Debit')),\n",
    "        faker.random_element(elements=('Store A', 'Store B', 'Store C')),\n",
    "        faker.unix_time()\n",
    "    ]\n",
    "    \n",
    "    json_data = dict(zip(columns, data_list))\n",
    "    payload = json.dumps(json_data).encode(\"utf-8\")\n",
    "    \n",
    "    # Kirim ke partisi spesifik\n",
    "    partition = i % 3\n",
    "    response = producer.send(topic=kafka_topic_partition, value=payload, partition=partition)\n",
    "    \n",
    "    print(f\"Data terkirim ke partition {partition}:\")\n",
    "    print(json_data)\n",
    "    print(\"-\" * 50)\n",
    "    sleep(5)"
   ]
  },
  {
   "cell_type": "code",
   "execution_count": null,
   "id": "0284e780-3a97-4d28-b2d7-dc2059960e24",
   "metadata": {},
   "outputs": [],
   "source": []
  }
 ],
 "metadata": {
  "kernelspec": {
   "display_name": "Python 3 (ipykernel)",
   "language": "python",
   "name": "python3"
  },
  "language_info": {
   "codemirror_mode": {
    "name": "ipython",
    "version": 3
   },
   "file_extension": ".py",
   "mimetype": "text/x-python",
   "name": "python",
   "nbconvert_exporter": "python",
   "pygments_lexer": "ipython3",
   "version": "3.10.10"
  }
 },
 "nbformat": 4,
 "nbformat_minor": 5
}
