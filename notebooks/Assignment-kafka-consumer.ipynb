{
 "cells": [
  {
   "cell_type": "code",
   "execution_count": 1,
   "id": "405bacd1-e0d2-416a-866f-2329d6474e1c",
   "metadata": {
    "tags": []
   },
   "outputs": [],
   "source": [
    "import json\n",
    "import os\n",
    "from dotenv import load_dotenv\n",
    "from pathlib import Path\n",
    "from kafka import KafkaConsumer\n",
    "from time import sleep"
   ]
  },
  {
   "cell_type": "code",
   "execution_count": 2,
   "id": "efce037a-0155-4a20-8896-df7dad592f49",
   "metadata": {
    "tags": []
   },
   "outputs": [
    {
     "data": {
      "text/plain": [
       "True"
      ]
     },
     "execution_count": 2,
     "metadata": {},
     "output_type": "execute_result"
    }
   ],
   "source": [
    "dotenv_path = Path('/resources/.env')\n",
    "load_dotenv(dotenv_path=dotenv_path)"
   ]
  },
  {
   "cell_type": "code",
   "execution_count": 3,
   "id": "bdd41cee-da5d-426c-a7d4-316b78034e97",
   "metadata": {
    "tags": []
   },
   "outputs": [],
   "source": [
    "kafka_host = os.getenv('KAFKA_HOST')\n",
    "kafka_topic_partition = 'assignment'"
   ]
  },
  {
   "cell_type": "code",
   "execution_count": 4,
   "id": "3fa73e30-7bd3-4d76-8f45-70727610e600",
   "metadata": {
    "tags": []
   },
   "outputs": [
    {
     "name": "stdout",
     "output_type": "stream",
     "text": [
      "dataeng-kafka\n"
     ]
    }
   ],
   "source": [
    "print(kafka_host)"
   ]
  },
  {
   "cell_type": "code",
   "execution_count": 5,
   "id": "ef6b013c-8220-437c-a583-44cb1e8a94c1",
   "metadata": {
    "tags": []
   },
   "outputs": [],
   "source": [
    "consumer = KafkaConsumer(\n",
    "    kafka_topic_partition,\n",
    "    bootstrap_servers=f'{kafka_host}:9092',\n",
    "    value_deserializer=lambda m: json.loads(m.decode('ascii')),\n",
    "    auto_offset_reset='earliest',\n",
    "    group_id='transaction-group'\n",
    ")"
   ]
  },
  {
   "cell_type": "code",
   "execution_count": 6,
   "id": "240f8ba8-dd69-4c93-ad18-5ba3d636f848",
   "metadata": {
    "tags": []
   },
   "outputs": [],
   "source": [
    "running_sum = 0\n",
    "message_count = 0"
   ]
  },
  {
   "cell_type": "code",
   "execution_count": 9,
   "id": "68e773d4-3d1e-46ee-9c72-3dbb23e227a4",
   "metadata": {
    "tags": []
   },
   "outputs": [
    {
     "name": "stdout",
     "output_type": "stream",
     "text": [
      "Mulai membaca data...\n",
      "Running Sum calculation:\n",
      "--------------------------------------------------\n",
      "Data diterima dari partition 1:\n",
      "{'transaction_id': '28b201f6-2f7e-42fa-b7cb-4e6426d310ab', 'amount': 54459, 'payment_method': 'Cash', 'store': 'Store B', 'timestamp': 543085795}\n",
      "Running sum: 54459\n",
      "--------------------------------------------------\n",
      "Data diterima dari partition 1:\n",
      "{'transaction_id': 'f9f62f9f-bb33-4783-b902-7dc1aebdc2f7', 'amount': 69901, 'payment_method': 'Credit Card', 'store': 'Store C', 'timestamp': 1210652693}\n",
      "Running sum: 124360\n",
      "--------------------------------------------------\n",
      "Data diterima dari partition 1:\n",
      "{'transaction_id': '242f9c4a-d867-4e14-9cb0-b3528ed607d9', 'amount': 71642, 'payment_method': 'Credit Card', 'store': 'Store C', 'timestamp': 1507356596}\n",
      "Running sum: 196002\n",
      "--------------------------------------------------\n",
      "Data diterima dari partition 1:\n",
      "{'transaction_id': '13b1f957-6f3e-4031-824d-7e5c516e8469', 'amount': 64953, 'payment_method': 'Credit Card', 'store': 'Store C', 'timestamp': 597457073}\n",
      "Running sum: 260955\n",
      "--------------------------------------------------\n",
      "Data diterima dari partition 1:\n",
      "{'transaction_id': '876b6c90-ea85-4659-a3ef-69c0f833737e', 'amount': 55583, 'payment_method': 'Cash', 'store': 'Store B', 'timestamp': 152345440}\n",
      "Running sum: 316538\n",
      "--------------------------------------------------\n"
     ]
    }
   ],
   "source": [
    "print(\"Mulai membaca data...\")\n",
    "print(\"Running Sum calculation:\")\n",
    "print(\"-\" * 50)\n",
    "\n",
    "# Consume 5 messages\n",
    "for message in consumer:\n",
    "    if message_count >= 5:\n",
    "        break\n",
    "        \n",
    "    data = message.value    \n",
    "    running_sum += data['amount']\n",
    "    \n",
    "    print(f\"Data diterima dari partition {message.partition}:\")\n",
    "    print(data)\n",
    "    print(f\"Running sum: {running_sum}\")\n",
    "    print(\"-\" * 50)\n",
    "    \n",
    "    message_count += 1"
   ]
  },
  {
   "cell_type": "code",
   "execution_count": null,
   "id": "4b0bff43-76fe-4c40-a2d7-5cfc920c613f",
   "metadata": {},
   "outputs": [],
   "source": []
  }
 ],
 "metadata": {
  "kernelspec": {
   "display_name": "Python 3 (ipykernel)",
   "language": "python",
   "name": "python3"
  },
  "language_info": {
   "codemirror_mode": {
    "name": "ipython",
    "version": 3
   },
   "file_extension": ".py",
   "mimetype": "text/x-python",
   "name": "python",
   "nbconvert_exporter": "python",
   "pygments_lexer": "ipython3",
   "version": "3.10.10"
  }
 },
 "nbformat": 4,
 "nbformat_minor": 5
}
